{
 "cells": [
  {
   "cell_type": "markdown",
   "id": "31afcf27-1cc8-44fa-9d2a-eb81b21d446e",
   "metadata": {},
   "source": [
    "# Homework: Python Exercises\n"
   ]
  },
  {
   "cell_type": "markdown",
   "id": "ad61530e-c704-4b06-9bd1-2314ed8a21c7",
   "metadata": {},
   "source": [
    "## Name: <span style=\"color:blue\"> Tyler Hudson </span>"
   ]
  },
  {
   "cell_type": "markdown",
   "id": "2a801ce0-8803-4ed6-aa71-a72e215499c7",
   "metadata": {},
   "source": [
    "## Utils"
   ]
  },
  {
   "cell_type": "code",
   "execution_count": 4,
   "id": "9551131e-52b1-414e-a9ad-13df8721eb9d",
   "metadata": {},
   "outputs": [],
   "source": [
    "# Extra imports for this lab that are beyond the scope of discussion\n",
    "from typing import List, Dict, Tuple\n",
    "import os\n",
    "import gc\n",
    "import traceback\n",
    "import warnings\n",
    "from pdb import set_trace\n",
    "\n",
    "# Default seed\n",
    "seed = 0"
   ]
  },
  {
   "cell_type": "code",
   "execution_count": 3,
   "id": "07a42aa9-bc08-4000-8203-ba3e43152a9b",
   "metadata": {
    "deletable": false,
    "editable": false,
    "nbgrader": {
     "cell_type": "code",
     "checksum": "4f921705c3cead270c59efc25d954287",
     "grade": true,
     "grade_id": "cell-35888d71a1277e78",
     "locked": true,
     "points": 0,
     "schema_version": 3,
     "solution": false,
     "task": false
    }
   },
   "outputs": [],
   "source": [
    "class TodoCheckFailed(Exception):\n",
    "    pass\n",
    "\n",
    "def todo_check(asserts, mute=False, **kwargs):\n",
    "    locals().update(kwargs)\n",
    "    failed_err = \"You passed {}/{} and FAILED the following code checks:\\n{}\"\n",
    "    failed = \"\"\n",
    "    n_failed = 0\n",
    "    for check, (condi, err) in enumerate(asserts):\n",
    "        exc_failed = False\n",
    "        if isinstance(condi, str):\n",
    "            try:\n",
    "                passed = eval(condi)\n",
    "            except Exception:\n",
    "                exc_failed = True\n",
    "                n_failed += 1\n",
    "                failed += f\"\\nCheck [{check+1}]: Failed to execute check [{check+1}] due to the following error...\\n{traceback.format_exc()}\"\n",
    "        elif isinstance(condi, bool):\n",
    "            passed = condi\n",
    "        else:\n",
    "            raise ValueError(\"asserts must be a list of strings or bools\")\n",
    "\n",
    "        if not exc_failed and not passed:\n",
    "            n_failed += 1\n",
    "            failed += f\"\\nCheck [{check+1}]: Failed\\n\\tTip: {err}\\n\"\n",
    "\n",
    "    if len(failed) != 0:\n",
    "        passed = len(asserts) - n_failed\n",
    "        err = failed_err.format(passed, len(asserts), failed)\n",
    "        raise TodoCheckFailed(err.format(failed))\n",
    "    if not mute: print(\"Your code PASSED all the code checks!\")\n"
   ]
  },
  {
   "cell_type": "markdown",
   "id": "c09b158e-2c78-49a9-b5b4-16cab00ac5f1",
   "metadata": {},
   "source": [
    "# Instructions\n",
    "\n",
    "In this assignment, your core Python skills will be tested by having you complete or write various functions and classes using concepts such as lists, dictionaries, loops, and recursion. **No libraries are allowed to be used in this assignment!**\n",
    "\n",
    "For each exercise, you will be given a set of instructions and a test function denoted with the prefix `TEST`. The testing function will contain a `todo_check()` function which will give you a rough estimate of whether your code is functioning as excepted. Feel free to write your own tests to make sure your code works with various different inputs. "
   ]
  },
  {
   "cell_type": "markdown",
   "id": "36bdc21c-6b67-4fca-9bae-19a760aa96c2",
   "metadata": {},
   "source": [
    "## Submission\n",
    "\n",
    "1. Save the notebook.\n",
    "2. Enter your name in the appropriate markdown cell provided at the top of the notebook.\n",
    "3. Select `Kernel` -> `Restart Kernel and Run All Cells`. This will restart the kernel and run all cells. Make sure everything runs without errors and double-check the outputs are as you desire!\n",
    "4. Submit the `.ipynb` notebook on Canvas.\n"
   ]
  },
  {
   "cell_type": "markdown",
   "id": "41dce764-9610-4c70-b2db-b3d69d1b8ad7",
   "metadata": {},
   "source": [
    "# Python Exercises "
   ]
  },
  {
   "cell_type": "markdown",
   "id": "46fd8a6d-3a6c-4132-8e8e-842261e689c6",
   "metadata": {},
   "source": [
    "## List Operation (20 points)\n",
    "\n",
    "Complete the `center_list()` function, which should take in a list `x` as input, and subtract the mean of `x` from every element in `x`. Be sure to store the mean of `x` in the variable `mean` and the centered list in the variable `centered_list`. Both `mean` and `centered_list` should be returned! Run the `TEST_center_list()` function to test your code.\n",
    "\n",
    "**Example**\n",
    "\n",
    "The output for the list `[5, 10, 15, 20, 25]` should be a mean of 15 and the new list `[-10.0, -5.0, 0.0, 5.0, 10.0]` \n",
    "\n",
    "**Hints**\n",
    "- The built-in Python functions `sum()` and `len()` can be useful here.\n"
   ]
  },
  {
   "cell_type": "code",
   "execution_count": 6,
   "id": "8a861eee-4915-4afc-92fc-7f9020b5f9ce",
   "metadata": {
    "deletable": false,
    "nbgrader": {
     "cell_type": "code",
     "checksum": "6a4aba914e23dcda8a672827fbb14766",
     "grade": false,
     "grade_id": "cell-de89530c0b47f42f",
     "locked": false,
     "schema_version": 3,
     "solution": true,
     "task": false
    }
   },
   "outputs": [],
   "source": [
    "def center_list(x: List) -> Tuple[float, List]:\n",
    "    mean: float = None\n",
    "    centered_list: List = []\n",
    "    # YOUR CODE HERE\n",
    "\n",
    "    total = 0\n",
    "    for i in x:\n",
    "        total = total + i\n",
    "\n",
    "    mean = total / len(x)\n",
    "\n",
    "    for i in x:\n",
    "        centered_list.append(i - mean)\n",
    "\n",
    "    return mean, centered_list"
   ]
  },
  {
   "cell_type": "code",
   "execution_count": 7,
   "id": "d5e02526-fa78-4157-ab5f-3c05d8fc0b54",
   "metadata": {
    "deletable": false,
    "editable": false,
    "nbgrader": {
     "cell_type": "code",
     "checksum": "0aac4f02ef209d854d923eda1c3f05bd",
     "grade": true,
     "grade_id": "cell-2cdb8f7191d784c1",
     "locked": true,
     "points": 20,
     "schema_version": 3,
     "solution": false,
     "task": false
    }
   },
   "outputs": [
    {
     "name": "stdout",
     "output_type": "stream",
     "text": [
      "======================Inputs======================\n",
      "x: [5, 10, 15, 20, 25]\n",
      "=====================Outputs======================\n",
      "Mean: 15.0\n",
      "Centered list: [-10.0, -5.0, 0.0, 5.0, 10.0]\n",
      "Your code PASSED all the code checks!\n"
     ]
    }
   ],
   "source": [
    "def TEST_center_list() -> None:\n",
    "    print(\"{:=^50}\".format('Inputs'))\n",
    "    x = [5, 10, 15, 20, 25]\n",
    "    print(f\"x: {x}\")\n",
    "    \n",
    "    print(\"{:=^50}\".format('Outputs'))\n",
    "    mean, centered_list = center_list(x)\n",
    "    print(f\"Mean: {mean}\")\n",
    "    print(f\"Centered list: {centered_list}\")\n",
    "    \n",
    "    todo_check([\n",
    "        ('mean == 15.0', 'The expected output for `mean` is 15',), \n",
    "        (\"centered_list ==  [-10.0, -5.0, 0.0, 5.0, 10.0]\", 'The expected output for `centered_list` is [-10.0, -5.0, 0.0, 5.0, 10.0]')\n",
    "    ],\n",
    "    **locals())\n",
    "    \n",
    "TEST_center_list()"
   ]
  },
  {
   "cell_type": "markdown",
   "id": "ca5235e9-9ea6-475f-b585-628855c474eb",
   "metadata": {},
   "source": [
    "## Matrix Replacement (20 points)\n",
    "\n",
    "\n",
    "Complete the `matrix_replacement()` function, which should take in a list of lists `X` (representing a matrix) as input. The goal of the `matrix_replacement()` function is to replace (i.e., filter) all `None` values with the integer value of 0. If you edited `X` directly or created a new matrix with the replaced values, be sure to return it. Run the `TEST_matrix_replacement()` function to test your code.\n",
    "\n",
    "**Example**\n",
    "\n",
    "The output for the list `[[1, None, 2], [None, 3, 1], [5, 6, None]]` should be `[[1, 0, 2], [0, 3, 1], [5, 6, 0]]`\n",
    "\n",
    "**Hints**\n",
    "- You will have to use nested for-loops to iterate over the matrix.\n"
   ]
  },
  {
   "cell_type": "code",
   "execution_count": 8,
   "id": "e7766a13-ba66-41e4-9d20-c04ade7d8171",
   "metadata": {
    "deletable": false,
    "nbgrader": {
     "cell_type": "code",
     "checksum": "17d5db1d9a468934d7cccf2a87c68db1",
     "grade": false,
     "grade_id": "cell-f055957a3bc60baa",
     "locked": false,
     "schema_version": 3,
     "solution": true,
     "task": false
    }
   },
   "outputs": [],
   "source": [
    "def matrix_replacement(X: List[List]) -> List:\n",
    "    # YOUR CODE HERE\n",
    "    for i in range(len(X)):\n",
    "        for j in range(len(X[i])):\n",
    "            if X[i][j] == None:\n",
    "                X[i][j] = 0\n",
    "    \n",
    "    return X"
   ]
  },
  {
   "cell_type": "code",
   "execution_count": 9,
   "id": "c3d4d329-2308-4853-9f51-bea91b2f9339",
   "metadata": {
    "deletable": false,
    "editable": false,
    "nbgrader": {
     "cell_type": "code",
     "checksum": "f92770fc16a8efea38f797bed99dd0b4",
     "grade": true,
     "grade_id": "cell-1191d977e0cfdf72",
     "locked": true,
     "points": 20,
     "schema_version": 3,
     "solution": false,
     "task": false
    }
   },
   "outputs": [
    {
     "name": "stdout",
     "output_type": "stream",
     "text": [
      "======================Inputs======================\n",
      "x: [[1, None, 2], [None, 3, 1], [5, 6, None]]\n",
      "=====================Outputs======================\n",
      "Results: [[1, 0, 2], [0, 3, 1], [5, 6, 0]]\n",
      "Your code PASSED all the code checks!\n"
     ]
    }
   ],
   "source": [
    "def TEST_matrix_replacement() -> None:\n",
    "    print(\"{:=^50}\".format('Inputs'))\n",
    "    X = [[1, None, 2],[None, 3, 1],[5, 6, None]]\n",
    "    print(f\"x: {X}\")\n",
    "    \n",
    "    print(\"{:=^50}\".format('Outputs'))\n",
    "    results = matrix_replacement(X)\n",
    "    print(f\"Results: {results}\")\n",
    "    \n",
    "    todo_check([\n",
    "        ('results == [[1, 0, 2], [0, 3, 1], [5, 6, 0]]', 'The expected output for `results` is [[1, 0, 2], [0, 3, 1], [5, 6, 0]]',), \n",
    "    ],\n",
    "    **locals())\n",
    "TEST_matrix_replacement()"
   ]
  },
  {
   "cell_type": "markdown",
   "id": "afef3bde-0592-4a91-b4bb-10e8fa5764d0",
   "metadata": {},
   "source": [
    "## Histogram (20 points)\n",
    "Complete the `matrix_replacement()` function, which should take in a list `x` as input. The goal of the `make_histogram()` function is to output a Python dictionary mapping each unique integer in `x` to the number of times it appears in `x`. Be sure to store the resulting histogram into the `results` variable and to return it. Run the `TEST_make_histogram()` function to test your code.\n",
    "\n",
    "**Example**\n",
    "\n",
    "The output for the list `[1, 2, 1, 3, 2, 1, 6, 2, 6, 1]` should be `{1: 4, 2: 3, 3: 1, 6: 2}`\n",
    "\n",
    "**Hints**\n",
    "- You will need to loop over `x` and check if the variable is already in the dictionary `results` to then add it or iterate the stored value."
   ]
  },
  {
   "cell_type": "code",
   "execution_count": 10,
   "id": "2596e537-4315-4b39-87db-f23ef0ae912c",
   "metadata": {
    "deletable": false,
    "nbgrader": {
     "cell_type": "code",
     "checksum": "4219304abb95c2ab17985222a02b4010",
     "grade": false,
     "grade_id": "cell-47266446cd7e218b",
     "locked": false,
     "schema_version": 3,
     "solution": true,
     "task": false
    }
   },
   "outputs": [],
   "source": [
    "def make_histogram(x: List) -> Dict:\n",
    "    results: Dict = {}\n",
    "    # YOUR CODE HERE\n",
    "\n",
    "    for i in x:\n",
    "        if i in results:\n",
    "            results[i] += 1\n",
    "        else:\n",
    "            results[i] = 1\n",
    "    \n",
    "    return results"
   ]
  },
  {
   "cell_type": "code",
   "execution_count": 11,
   "id": "a1f9a644-140f-4c6d-86d7-2103c53ff06a",
   "metadata": {
    "deletable": false,
    "editable": false,
    "nbgrader": {
     "cell_type": "code",
     "checksum": "a04a371dfc5c4d25979fe546b9ddb1fc",
     "grade": true,
     "grade_id": "cell-7399778738f23876",
     "locked": true,
     "points": 20,
     "schema_version": 3,
     "solution": false,
     "task": false
    }
   },
   "outputs": [
    {
     "name": "stdout",
     "output_type": "stream",
     "text": [
      "======================Inputs======================\n",
      "x: [1, 2, 1, 3, 2, 1, 6, 2, 6, 1]\n",
      "=====================Outputs======================\n",
      "Result: {1: 4, 2: 3, 3: 1, 6: 2}\n",
      "Your code PASSED all the code checks!\n"
     ]
    }
   ],
   "source": [
    "def TEST_make_histogram() -> None:\n",
    "    print(\"{:=^50}\".format('Inputs'))\n",
    "    x = [1, 2, 1, 3, 2, 1, 6, 2, 6, 1]\n",
    "    print(f\"x: {x}\")\n",
    "    \n",
    "    print(\"{:=^50}\".format('Outputs'))\n",
    "    results = make_histogram(x)\n",
    "    print(f\"Result: {results}\")\n",
    "    todo_check([\n",
    "        ('isinstance(results, dict)', f'The result of `make_histrogram` must be of type dict, instead got `{type(results)}`'),\n",
    "        ('results == {1:4, 2:3, 3:1, 6:2}', 'The expected output for `results` is {1:4, 2:3, 3:1, 6:2}',), \n",
    "    ],\n",
    "    **locals())\n",
    "TEST_make_histogram()"
   ]
  },
  {
   "cell_type": "markdown",
   "id": "0b689816-4d95-4094-8369-4b47d3bb1500",
   "metadata": {},
   "source": [
    "## Class and List Indexing (20 points)\n",
    "\n",
    "Complete the `ListUtils()` class. To do so, follow the bellow instructions for implementing 6 different methods.\n",
    "\n",
    "1. Implement the constructor method `__init__()`. This method should take a list `x` as input. Store `x` in the *class variable* `self.x`.\n",
    "2. Implement a method called `list_length()` which takes no inputs but returns the length of the class variable `x`.\n",
    "3. Implement a method called `first_n_elements()` which takes an integer `n` as input and returns the *first* `n` elements of the class variable `x`.\n",
    "4. Implement a method called `last_n_elements()` which takes an integer `n` as input and returns the *last* `n` elements of the class variable `x`.\n",
    "5. Implement a method called `index_n_elements()` which takes a list `indices` as input and returns the elements in the class variable `x` corresponding to the indices contained within`indices`.\n",
    "6. Implement a method called `slice_list()` which takes two inputs: an integer `start` and an integer `end`. This method should return all elements between the start index `start` and up to the end index `end` (not include the end index) for the class variable `x`.\n",
    "\n",
    "\n",
    "**Examples**\n",
    "\n",
    "- For `list_length()`, the output should be 11.\n",
    "- For `first_n_elements(n=5)`, the output should be `[1, 2, 3, 4, 5]`\n",
    "- For `last_n_elements(n=5)`, the output should be `[7, 8, 9, 10, 11]`\n",
    "- For `index_n_elements(indices=[0,4,7,10])`, the output should be `[1, 5, 8, 11]`\n",
    "- For `slice_list(start=2, end=7)`, the output should be `[3, 4, 5, 6, 7]`\n",
    "\n",
    "**Hints**\n",
    "- Each method should take as input a reference to itself called `self` along with whatever other inputs are required by the instructions. \n",
    "- For most of the methods, you should only need to [slice](https://www.w3schools.com/python/python_strings_slicing.asp) the class variable `x`.\n",
    "- If a method has multiple variables, define them in the order given in the instructions, otherwise your code might not pass the code checks."
   ]
  },
  {
   "cell_type": "code",
   "execution_count": 12,
   "id": "257b3dcb-9c7f-4df8-b6f1-6d95e3c31da3",
   "metadata": {
    "deletable": false,
    "nbgrader": {
     "cell_type": "code",
     "checksum": "63df6ff663cb9d4d9fe1611741ac3dee",
     "grade": false,
     "grade_id": "cell-24862a42e78e48f9",
     "locked": false,
     "schema_version": 3,
     "solution": true,
     "task": false
    }
   },
   "outputs": [],
   "source": [
    "class ListUtils():\n",
    "    # YOUR CODE HERE\n",
    "    def __init__(self, x: List):\n",
    "        self.x = x\n",
    "\n",
    "    def list_length(self):\n",
    "        return len(self.x)\n",
    "    \n",
    "    def first_n_elements(self, n: int):\n",
    "        return self.x[:n]\n",
    "    \n",
    "    def last_n_elements(self, n: int):\n",
    "        return self.x[-n:]\n",
    "    \n",
    "    def index_n_elements(self, n: List):\n",
    "        listToReturn = []\n",
    "        for i in n:\n",
    "            listToReturn.append(self.x[i])\n",
    "\n",
    "        return listToReturn\n",
    "    \n",
    "    def slice_list(self, start, end):\n",
    "        return self.x[start:end]\n",
    "        \n",
    "\n"
   ]
  },
  {
   "cell_type": "code",
   "execution_count": 13,
   "id": "d44aec62-89c1-4aa8-8f58-06443b2cf094",
   "metadata": {
    "deletable": false,
    "editable": false,
    "nbgrader": {
     "cell_type": "code",
     "checksum": "b8d5df1812cb23b1a0a2c338eb02ae96",
     "grade": true,
     "grade_id": "cell-580fc84702cc3961",
     "locked": true,
     "points": 20,
     "schema_version": 3,
     "solution": false,
     "task": false
    }
   },
   "outputs": [
    {
     "name": "stdout",
     "output_type": "stream",
     "text": [
      "======================Inputs======================\n",
      "x: [1, 2, 3, 4, 5, 6, 7, 8, 9, 10, 11]\n",
      "=====================Outputs======================\n",
      "list_length: 11\n",
      "first_n_elements: [1, 2, 3, 4, 5]\n",
      "last_n_elements: [7, 8, 9, 10, 11]\n",
      "index_n_elements: [1, 5, 8, 11]\n",
      "slice_list: [3, 4, 5, 6, 7]\n",
      "Your code PASSED all the code checks!\n"
     ]
    }
   ],
   "source": [
    "def TEST_ListUtils() -> None:\n",
    "    print(\"{:=^50}\".format('Inputs'))\n",
    "    x = list(range(1, 12))\n",
    "    print(f\"x: {x}\")\n",
    "    \n",
    "    print(\"{:=^50}\".format('Outputs'))\n",
    "    list_utils = ListUtils(x)\n",
    "    try:\n",
    "        list_length = list_utils.list_length()\n",
    "        print(f\"list_length: {list_length}\")\n",
    "    except Exception:\n",
    "        traceback.print_exc()\n",
    "    try:\n",
    "        first_n_elements = list_utils.first_n_elements(5)\n",
    "        print(f\"first_n_elements: {first_n_elements}\")\n",
    "    except Exception:\n",
    "        traceback.print_exc()\n",
    "    try:\n",
    "        last_n_elements = list_utils.last_n_elements(5)\n",
    "        print(f\"last_n_elements: {last_n_elements}\")\n",
    "    except Exception:\n",
    "        traceback.print_exc()    \n",
    "    try:\n",
    "        index_n_elements = list_utils.index_n_elements([0,4,7,10])\n",
    "        print(f\"index_n_elements: {index_n_elements}\")\n",
    "    except Exception:\n",
    "        traceback.print_exc()\n",
    "    try:\n",
    "        slice_list = list_utils.slice_list(2,7)\n",
    "        print(f\"slice_list: {slice_list}\")\n",
    "    except Exception:\n",
    "        traceback.print_exc()   \n",
    "\n",
    "    todo_check([\n",
    "        ('11 == list_utils.list_length()', 'The expected output for `list_utils.list_length()` is 11'),\n",
    "        ('[1,2,3,4,5] == list_utils.first_n_elements(5)', 'The expected output for `list_utils.first_n_elements(5)` is [1, 2, 3, 4, 5]',), \n",
    "        ('[7,8,9,10,11] == list_utils.last_n_elements(5)', 'The expected output for `list_utils.last_n_elements(5)` is [7, 8, 9, 10, 11]',), \n",
    "        ('[1,5,8,11] == list_utils.index_n_elements([0,4,7,10])', 'The expected output for `list_utils.index_n_elements([0,4,7,10])` is [1, 5, 8, 11]',), \n",
    "        ('[3,4,5,6,7] == list_utils.slice_list(2,7)', 'The expected output for `list_utils.slice_list(2,7)` is [3, 4, 5, 6, 7]',), \n",
    "    ],\n",
    "    **locals())\n",
    "\n",
    "    \n",
    "TEST_ListUtils()"
   ]
  },
  {
   "cell_type": "markdown",
   "id": "62adade9-ec4c-4168-81f3-a580743b006f",
   "metadata": {},
   "source": [
    "## Recursion (20 points) \n",
    "Complete the `iterate_over_tree()` function, which should takes a list of lists `X` as input. The goal of the `iterate_over_tree()` function is to return the number of nodes `nodes` and the leaf nodes values `leafs` in a tree. The tree structure is defined using a list of lists such as `[root, [subtree_1 [leaf1_], [leaf_2]] , [leaf_3] , [subtree_2 [leaf_4]]]` where a leaf node is indicated by a list with the length of 1. To solve this problem, you will need to use [recursion](https://realpython.com/python-recursion/) with `iterate_over_tree()` function. \n",
    "\n",
    "**Examples**\n",
    "- Below is an expanded version of the list given in the instructions as an example to better visualize how the list represents a tree.\n",
    "```Python\n",
    "[root, \n",
    "    [subtree_1 \n",
    "        [leaf1_], \n",
    "        [leaf_2],\n",
    "    ],\n",
    "    [leaf_3],\n",
    "    [subtree_2,\n",
    "         [leaf_4]\n",
    "    ]\n",
    "]\n",
    "```\n",
    "- The output for `[1, [2, [3], [4]], [5], [6, [7, [8]], [9]]]` should be 9 nodes with the leafs `[3, 4, 5, 8, 9]`\n",
    "\n",
    "**Hints**\n",
    "\n",
    "- You might need to use Python's `isinstance()` built-in function to check if an element is a list, if it is, then you can initiate recursion.\n",
    "- Remember the `len()` built-in function is used to check the length of a list."
   ]
  },
  {
   "cell_type": "code",
   "execution_count": 52,
   "id": "c7eb2532-b647-413d-8589-57535bb1032a",
   "metadata": {
    "deletable": false,
    "nbgrader": {
     "cell_type": "code",
     "checksum": "543fec6d6179fff14d77dface56424d8",
     "grade": false,
     "grade_id": "cell-ce2a9e122bc11b69",
     "locked": false,
     "schema_version": 3,
     "solution": true,
     "task": false
    }
   },
   "outputs": [
    {
     "name": "stdout",
     "output_type": "stream",
     "text": [
      "(9, [3, 4, 5, 8, 9])\n"
     ]
    }
   ],
   "source": [
    "def iterate_over_tree(X: List[List]) -> Tuple[int, List]:\n",
    "    nodes: int = 0\n",
    "    leafs: List = []\n",
    "    # YOUR CODE HERE\n",
    "\n",
    "    for i in X:\n",
    "        if isinstance(i, list) and len(i) > 1:\n",
    "            child_nodes, child_leafs = iterate_over_tree(i)\n",
    "            nodes = nodes + child_nodes \n",
    "            leafs.extend(child_leafs) \n",
    "        else:\n",
    "            nodes = nodes + 1\n",
    "            if isinstance(i, list) and len(i) == 1:\n",
    "                leafs.append(i[0])\n",
    "\n",
    "    return nodes, leafs\n",
    "\n",
    "print(iterate_over_tree([1, [2, [3], [4]], [5], [6, [7, [8]], [9]]]))"
   ]
  },
  {
   "cell_type": "code",
   "execution_count": 53,
   "id": "c2c6b4e6-6c46-45aa-b2b5-3b7c67865c3c",
   "metadata": {
    "deletable": false,
    "editable": false,
    "nbgrader": {
     "cell_type": "code",
     "checksum": "6fa1f1be428f862e9185e658a1eca2b0",
     "grade": true,
     "grade_id": "cell-40556244fba60849",
     "locked": true,
     "points": 20,
     "schema_version": 3,
     "solution": false,
     "task": false
    }
   },
   "outputs": [
    {
     "name": "stdout",
     "output_type": "stream",
     "text": [
      "======================Inputs======================\n",
      "X: [1, [2, [3], [4]], [5], [6, [7, [8]], [9]]]\n",
      "=====================Outputs======================\n",
      "Count: 9\n",
      "leafs: [3, 4, 5, 8, 9]\n",
      "Your code PASSED all the code checks!\n"
     ]
    }
   ],
   "source": [
    "def TEST_iterate_over_tree():\n",
    "    print(\"{:=^50}\".format('Inputs'))\n",
    "    X = [1, [2, [3], [4]], [5], [6, [7, [8]], [9]]]\n",
    "    print(f\"X: {X}\")\n",
    "\n",
    "    print(\"{:=^50}\".format('Outputs'))\n",
    "    count, leafs = iterate_over_tree(X)\n",
    "    print(f\"Count: {count}\")\n",
    "    print(f\"leafs: {leafs}\")\n",
    "\n",
    "    todo_check([\n",
    "        ('count == 9', 'The expected output for `count` is 9',),\n",
    "        ('leafs == [3, 4, 5, 8, 9]', 'The expected output for `leafs` is [3, 4, 5, 8, 9]',), \n",
    "    ],\n",
    "    **locals())\n",
    "TEST_iterate_over_tree()"
   ]
  }
 ],
 "metadata": {
  "kernelspec": {
   "display_name": "Python 3 (ipykernel)",
   "language": "python",
   "name": "python3"
  },
  "language_info": {
   "codemirror_mode": {
    "name": "ipython",
    "version": 3
   },
   "file_extension": ".py",
   "mimetype": "text/x-python",
   "name": "python",
   "nbconvert_exporter": "python",
   "pygments_lexer": "ipython3",
   "version": "3.12.2"
  }
 },
 "nbformat": 4,
 "nbformat_minor": 5
}
